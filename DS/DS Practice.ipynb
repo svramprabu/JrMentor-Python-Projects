{
 "cells": [
  {
   "cell_type": "markdown",
   "metadata": {
    "id": "k79OZAZ0jRbW",
    "jp-MarkdownHeadingCollapsed": true
   },
   "source": [
    "# Python basics"
   ]
  },
  {
   "cell_type": "code",
   "execution_count": null,
   "metadata": {
    "id": "ROOU-v4xr6tV"
   },
   "outputs": [],
   "source": [
    "rishi = 100 #declaring a variable"
   ]
  },
  {
   "cell_type": "code",
   "execution_count": null,
   "metadata": {
    "colab": {
     "base_uri": "https://localhost:8080/"
    },
    "id": "igRHb2i5sgbb",
    "outputId": "0d6d1085-f640-43ec-a8db-de64c07f8174"
   },
   "outputs": [
    {
     "name": "stdout",
     "output_type": "stream",
     "text": [
      "100\n"
     ]
    }
   ],
   "source": [
    "print(rishi) #printing a var"
   ]
  },
  {
   "cell_type": "code",
   "execution_count": null,
   "metadata": {
    "id": "iwJnMf48stan"
   },
   "outputs": [],
   "source": [
    "# Numerical Datatypes\n",
    "# Integers\n",
    "# numbers without decimals i.e 1,2,3,4,5,-1,-2,-3,-4,-5\n",
    "# Floats\n",
    "# numbers with decimals i.e 1.0,2.0,3.0,4.0,5.0,-1.0,-2.0,-3.0,-4.0,-5.0\n",
    "# Complex"
   ]
  },
  {
   "cell_type": "code",
   "execution_count": null,
   "metadata": {
    "id": "pQ53O1EWtO2D"
   },
   "outputs": [],
   "source": [
    "int_var = 123414\n",
    "float_var = 314.2345"
   ]
  },
  {
   "cell_type": "code",
   "execution_count": null,
   "metadata": {
    "colab": {
     "base_uri": "https://localhost:8080/",
     "height": 35
    },
    "id": "mm4DsCDvtVoZ",
    "outputId": "f7babbc6-c591-422c-a7da-be398e4fc96a"
   },
   "outputs": [
    {
     "data": {
      "application/vnd.google.colaboratory.intrinsic+json": {
       "type": "string"
      },
      "text/plain": [
       "'sdjfb2734856#$%#%'"
      ]
     },
     "execution_count": 4,
     "metadata": {},
     "output_type": "execute_result"
    }
   ],
   "source": [
    "# String\n",
    "'jfgja3478539#$%#@'\n",
    "\"sdjfb2734856#$%#%\""
   ]
  },
  {
   "cell_type": "code",
   "execution_count": null,
   "metadata": {
    "id": "8uhcHg-vtnt2"
   },
   "outputs": [],
   "source": [
    "str_var = \"rishi\"\n",
    "email = \"rishi@123\"\n",
    "marks = \"100\""
   ]
  },
  {
   "cell_type": "code",
   "execution_count": null,
   "metadata": {
    "colab": {
     "base_uri": "https://localhost:8080/"
    },
    "id": "kkqQ2drDt4Qk",
    "outputId": "c2847929-f356-40a5-a2de-76687643b9e1"
   },
   "outputs": [
    {
     "name": "stdout",
     "output_type": "stream",
     "text": [
      "rishi\n"
     ]
    }
   ],
   "source": [
    "print(str_var)"
   ]
  },
  {
   "cell_type": "code",
   "execution_count": null,
   "metadata": {
    "colab": {
     "base_uri": "https://localhost:8080/"
    },
    "id": "bDqlV8Vdt7oE",
    "outputId": "ac2006d6-ef7c-4de9-9794-d13e59ce8bda"
   },
   "outputs": [
    {
     "name": "stdout",
     "output_type": "stream",
     "text": [
      "r\n",
      "i\n",
      "s\n",
      "h\n",
      "i\n"
     ]
    }
   ],
   "source": [
    "print(str_var[0])\n",
    "print(str_var[1])\n",
    "print(str_var[2])\n",
    "print(str_var[3])\n",
    "print(str_var[4])"
   ]
  },
  {
   "cell_type": "code",
   "execution_count": null,
   "metadata": {
    "colab": {
     "base_uri": "https://localhost:8080/"
    },
    "id": "vZpGSi1WuJxU",
    "outputId": "887a05b3-98de-4d8d-ef39-8b47c1d10172"
   },
   "outputs": [
    {
     "name": "stdout",
     "output_type": "stream",
     "text": [
      "i\n",
      "h\n",
      "s\n",
      "i\n",
      "r\n"
     ]
    }
   ],
   "source": [
    "print(str_var[-1])\n",
    "print(str_var[-2])\n",
    "print(str_var[-3])\n",
    "print(str_var[-4])\n",
    "print(str_var[-5])"
   ]
  },
  {
   "cell_type": "code",
   "execution_count": null,
   "metadata": {
    "id": "5TNLNT-auWII"
   },
   "outputs": [],
   "source": [
    "# Boolean\n",
    "# True\n",
    "# False"
   ]
  },
  {
   "cell_type": "code",
   "execution_count": null,
   "metadata": {
    "id": "rnpwi1n8u77P"
   },
   "outputs": [],
   "source": [
    "# List\n",
    "# Tuple\n",
    "# Set\n",
    "# Dictionary"
   ]
  },
  {
   "cell_type": "code",
   "execution_count": null,
   "metadata": {
    "id": "pn4ScxocvKhn"
   },
   "outputs": [],
   "source": [
    "# Both list and tuple are ordered collections\n",
    "# any data can be stored\n",
    "# no max cap on size\n",
    "# comma separated values\n",
    "\n",
    "list=[]\n",
    "tuple=()"
   ]
  },
  {
   "cell_type": "code",
   "execution_count": null,
   "metadata": {
    "id": "SCvwS37pvqTt"
   },
   "outputs": [],
   "source": [
    "list=[1,2,3,4,5]\n",
    "tuple=(1,2,3,4,5)"
   ]
  },
  {
   "cell_type": "code",
   "execution_count": null,
   "metadata": {
    "id": "N6mZwjjzvxrz"
   },
   "outputs": [],
   "source": [
    "# Mutability\n",
    "# List is mutable\n",
    "# Tuple is immutable\n",
    "my_list = ['python','java','c++']\n",
    "my_tuple = ('python','java','c++')"
   ]
  },
  {
   "cell_type": "code",
   "execution_count": null,
   "metadata": {
    "colab": {
     "base_uri": "https://localhost:8080/"
    },
    "id": "Si8Dt_Dkv66l",
    "outputId": "fe4f2eba-5ebf-4156-be12-28550d30bff1"
   },
   "outputs": [
    {
     "name": "stdout",
     "output_type": "stream",
     "text": [
      "python\n"
     ]
    }
   ],
   "source": [
    "print(my_list[0])"
   ]
  },
  {
   "cell_type": "code",
   "execution_count": null,
   "metadata": {
    "colab": {
     "base_uri": "https://localhost:8080/"
    },
    "id": "yAKeZOuVv-bD",
    "outputId": "e8e17425-5c42-49f4-ce04-357c6f84ca9c"
   },
   "outputs": [
    {
     "name": "stdout",
     "output_type": "stream",
     "text": [
      "['rishi', 'java', 'c++']\n"
     ]
    }
   ],
   "source": [
    "my_list[0] = 'rishi'\n",
    "print(my_list)"
   ]
  },
  {
   "cell_type": "code",
   "execution_count": null,
   "metadata": {
    "id": "nHQtgDyFwECn"
   },
   "outputs": [],
   "source": [
    "# my_tuple = ('rishi','java','c++')"
   ]
  },
  {
   "cell_type": "code",
   "execution_count": null,
   "metadata": {
    "id": "lefyzPx0wWn_"
   },
   "outputs": [],
   "source": [
    "# Dictionary\n",
    "# Key value pair\n",
    "my_dict={1:'rishi','age':13,}"
   ]
  },
  {
   "cell_type": "code",
   "execution_count": null,
   "metadata": {
    "colab": {
     "base_uri": "https://localhost:8080/"
    },
    "id": "RpWdOYozw0rp",
    "outputId": "5728683b-1551-4d06-bb7d-cfa5427c5108"
   },
   "outputs": [
    {
     "name": "stdout",
     "output_type": "stream",
     "text": [
      "{1: 'rishi', 'age': 13}\n"
     ]
    }
   ],
   "source": [
    "print(my_dict)"
   ]
  },
  {
   "cell_type": "code",
   "execution_count": null,
   "metadata": {
    "colab": {
     "base_uri": "https://localhost:8080/"
    },
    "id": "eDsvdvWmw6Do",
    "outputId": "c20256cb-ede4-488b-8553-ca8368b62cad"
   },
   "outputs": [
    {
     "name": "stdout",
     "output_type": "stream",
     "text": [
      "13\n"
     ]
    }
   ],
   "source": [
    "print(my_dict['age'])"
   ]
  },
  {
   "cell_type": "code",
   "execution_count": null,
   "metadata": {
    "colab": {
     "base_uri": "https://localhost:8080/"
    },
    "id": "sfprKq_8xClM",
    "outputId": "fef8586d-7999-429c-b85a-82feee210506"
   },
   "outputs": [
    {
     "name": "stdout",
     "output_type": "stream",
     "text": [
      "25.5\n"
     ]
    }
   ],
   "source": [
    "# Type Conversion\n",
    "# Implicit - automatically done by python\n",
    "a = 10 #int->float 10.0\n",
    "b = 15.5 #float\n",
    "c = a+b\n",
    "print(c)"
   ]
  },
  {
   "cell_type": "code",
   "execution_count": null,
   "metadata": {
    "colab": {
     "base_uri": "https://localhost:8080/"
    },
    "id": "wzoAYh2lxutE",
    "outputId": "103a98ee-68ea-47c2-b415-135a88685903"
   },
   "outputs": [
    {
     "data": {
      "text/plain": [
       "10"
      ]
     },
     "execution_count": 23,
     "metadata": {},
     "output_type": "execute_result"
    }
   ],
   "source": [
    "# a\n",
    "# a=int(a)\n",
    "# d=float(a)\n",
    "# str(a)"
   ]
  },
  {
   "cell_type": "code",
   "execution_count": null,
   "metadata": {
    "colab": {
     "base_uri": "https://localhost:8080/"
    },
    "id": "D6hcVxyzxi8H",
    "outputId": "13ca086e-db45-49b2-f276-2a5df0b5de5b"
   },
   "outputs": [
    {
     "name": "stdout",
     "output_type": "stream",
     "text": [
      "30\n"
     ]
    }
   ],
   "source": [
    "# Explicit\n",
    "x = 10\n",
    "y = '20'\n",
    "y = int(y)\n",
    "z = x+y\n",
    "print(z)"
   ]
  },
  {
   "cell_type": "code",
   "execution_count": null,
   "metadata": {
    "id": "zbNRBmooxque"
   },
   "outputs": [],
   "source": [
    "# Operators\n",
    "# Arithmetic Operators\n",
    "# Assignment Operators\n",
    "# Comparison Operators\n",
    "# Logical Operators\n",
    "# Identity Operators\n",
    "# Membership Operators\n",
    "# Bitwise Operators"
   ]
  },
  {
   "cell_type": "code",
   "execution_count": null,
   "metadata": {
    "colab": {
     "base_uri": "https://localhost:8080/"
    },
    "id": "YDSxn0jZyUg1",
    "outputId": "4c6ad1b8-0554-4ee9-e1a7-292e6939ddc4"
   },
   "outputs": [
    {
     "name": "stdout",
     "output_type": "stream",
     "text": [
      "60\n",
      "3525\n",
      "3.75\n",
      "3\n",
      "12167\n",
      "3\n"
     ]
    }
   ],
   "source": [
    "# Arithmetic operators\n",
    "# + Addition and concatenation\n",
    "res = 35+25\n",
    "print(res)\n",
    "res = '35'+'25'\n",
    "print(res)\n",
    "# -\n",
    "# *\n",
    "# / division\n",
    "print(15/4)\n",
    "# % modulo\n",
    "print(15%4)\n",
    "# ** exponentiation\n",
    "print(23**3) #23*23*23\n",
    "# // floor division\n",
    "print(15//4)"
   ]
  },
  {
   "cell_type": "code",
   "execution_count": null,
   "metadata": {
    "id": "S2PjaE0Lyphw"
   },
   "outputs": [],
   "source": [
    "# comparison operators\n",
    "# == equal to\n",
    "print(10==10)\n",
    "# != not equal to\n",
    "# > greater than\n",
    "# < less than\n",
    "# >= greater than or equal to\n",
    "# <= less than or equal to"
   ]
  },
  {
   "cell_type": "code",
   "execution_count": null,
   "metadata": {
    "colab": {
     "base_uri": "https://localhost:8080/"
    },
    "id": "YftbEdNw0DUZ",
    "outputId": "de72948e-a4ce-4407-adae-bf55ca0009f9"
   },
   "outputs": [
    {
     "name": "stdout",
     "output_type": "stream",
     "text": [
      "15\n"
     ]
    }
   ],
   "source": [
    "# Assignment operators\n",
    "# =\n",
    "# Augumented assignment operators or compound operators\n",
    "# +=\n",
    "a = 5\n",
    "a += 10 # a = a+10\n",
    "print(a)\n",
    "# -=\n",
    "# *=\n",
    "# /=\n",
    "# %=\n",
    "# **=\n",
    "# //="
   ]
  },
  {
   "cell_type": "code",
   "execution_count": null,
   "metadata": {
    "colab": {
     "base_uri": "https://localhost:8080/"
    },
    "id": "z-UaUic30bIH",
    "outputId": "365a66de-7898-4fa6-ebc3-b4ed3bda1995"
   },
   "outputs": [
    {
     "name": "stdout",
     "output_type": "stream",
     "text": [
      "True\n",
      "False\n",
      "False\n",
      "False\n",
      "True\n",
      "True\n",
      "True\n",
      "False\n"
     ]
    }
   ],
   "source": [
    "# Logical Operators or Boolean operators\n",
    "# and\n",
    "print(True and True)\n",
    "print(True and False)\n",
    "print(False and True)\n",
    "print(False and False)\n",
    "# or\n",
    "print(True or True)\n",
    "print(True or False)\n",
    "print(False or True)\n",
    "print(False or False)\n",
    "# not\n",
    "print(not True)\n",
    "print(not False)"
   ]
  },
  {
   "cell_type": "code",
   "execution_count": null,
   "metadata": {
    "id": "WTYa_pRW01Cn"
   },
   "outputs": [],
   "source": [
    "# Identity operators\n",
    "# is ==\n",
    "# is not !="
   ]
  },
  {
   "cell_type": "code",
   "execution_count": null,
   "metadata": {
    "id": "FXvMS3d21WzU"
   },
   "outputs": [],
   "source": [
    "# membership operators\n",
    "# in\n",
    "# not in\n",
    "# x in y\n",
    "# x -> int, str, float\n",
    "# y -> list, tuple, set, dictionary"
   ]
  },
  {
   "cell_type": "code",
   "execution_count": null,
   "metadata": {
    "id": "HKy2Btii1p4o"
   },
   "outputs": [],
   "source": [
    "# bitwise operators\n",
    "# & and\n",
    "# | or\n",
    "# ^ xor\n",
    "# ~ not\n",
    "# << left shift\n",
    "# >> right shift"
   ]
  },
  {
   "cell_type": "code",
   "execution_count": null,
   "metadata": {
    "id": "1quKqzAj1pyV"
   },
   "outputs": [],
   "source": [
    "# Namespace\n",
    "# Built-in\n",
    "# print,if,else,input,int,float\n",
    "# Global\n",
    "# Local"
   ]
  },
  {
   "cell_type": "code",
   "execution_count": null,
   "metadata": {
    "id": "8Y-rRbbd1psN"
   },
   "outputs": [],
   "source": [
    "# Regulate Control flow\n",
    "# if else elif - conditional statements\n",
    "# for - loop\n",
    "# while - loop\n",
    "# functions"
   ]
  },
  {
   "cell_type": "code",
   "execution_count": null,
   "metadata": {
    "id": "-qjOx7001pj8"
   },
   "outputs": [],
   "source": []
  },
  {
   "cell_type": "markdown",
   "metadata": {
    "id": "Yxnl5PjxcW9g",
    "jp-MarkdownHeadingCollapsed": true
   },
   "source": [
    "## Topics Covered"
   ]
  },
  {
   "cell_type": "markdown",
   "metadata": {
    "id": "VEExcLp6b2WL"
   },
   "source": [
    "\n",
    "\n",
    "* Functions\n",
    "* Function with optional args\n",
    "* Functions with return value\n",
    "* assigning function to a variable\n",
    "* Types and Sequences\n",
    "* String access, slicing, concat"
   ]
  },
  {
   "cell_type": "markdown",
   "metadata": {
    "id": "J0btbiv9dURe"
   },
   "source": [
    "* Dictionary\n",
    " * declaration\n",
    " * iteration using key\n",
    " * using value\n",
    " * both key and value\n",
    "* Unpacking data\n"
   ]
  },
  {
   "cell_type": "markdown",
   "metadata": {
    "id": "jflQhaAzeos3",
    "jp-MarkdownHeadingCollapsed": true
   },
   "source": [
    "## Data and Times"
   ]
  },
  {
   "cell_type": "code",
   "execution_count": 1,
   "metadata": {
    "id": "p7uUpxlPb4or"
   },
   "outputs": [],
   "source": [
    "import datetime as dt\n",
    "import time as tm"
   ]
  },
  {
   "cell_type": "code",
   "execution_count": 3,
   "metadata": {
    "colab": {
     "base_uri": "https://localhost:8080/"
    },
    "id": "ADht6VSda3Yr",
    "outputId": "58ef3bdf-4840-46f0-9311-0b918426bdda"
   },
   "outputs": [
    {
     "data": {
      "text/plain": [
       "1722961142.031816"
      ]
     },
     "execution_count": 3,
     "metadata": {},
     "output_type": "execute_result"
    }
   ],
   "source": [
    "tm.time() #time in seconds since 1st jan 1970"
   ]
  },
  {
   "cell_type": "code",
   "execution_count": 6,
   "metadata": {
    "id": "6axAHSeta3Wz"
   },
   "outputs": [],
   "source": [
    "dtnow = dt.datetime.fromtimestamp(tm.time())"
   ]
  },
  {
   "cell_type": "code",
   "execution_count": 7,
   "metadata": {
    "colab": {
     "base_uri": "https://localhost:8080/"
    },
    "id": "-j15GhwJa3T_",
    "outputId": "082668bc-af5b-41b2-edbe-891ad0608b13"
   },
   "outputs": [
    {
     "data": {
      "text/plain": [
       "(2024, 8, 6, 16, 19, 56)"
      ]
     },
     "execution_count": 7,
     "metadata": {},
     "output_type": "execute_result"
    }
   ],
   "source": [
    "dtnow.year, dtnow.month, dtnow.day, dtnow.hour, dtnow.minute, dtnow.second # get year, month, day, etc.from a datetime"
   ]
  },
  {
   "cell_type": "markdown",
   "metadata": {
    "id": "sucI44A4fsbB",
    "jp-MarkdownHeadingCollapsed": true
   },
   "source": [
    "## Class and Object"
   ]
  },
  {
   "cell_type": "code",
   "execution_count": null,
   "metadata": {
    "id": "62DhEvoXa3Ro"
   },
   "outputs": [],
   "source": [
    "class Person:\n",
    "    department = 'School of Information' #a class variable\n",
    "\n",
    "    def set_name(self, new_name): #a method\n",
    "        self.name = new_name\n",
    "    def set_location(self, new_location):\n",
    "        self.location = new_location"
   ]
  },
  {
   "cell_type": "code",
   "execution_count": null,
   "metadata": {
    "id": "jbgjnJ6ua3P7"
   },
   "outputs": [],
   "source": [
    "person = Person()\n",
    "person.set_name('Christopher Brooks')\n",
    "person.set_location('Ann Arbor, MI, USA')\n",
    "print('{} live in {} and works in the department {}'.format(person.name, person.location, person.department))"
   ]
  },
  {
   "cell_type": "markdown",
   "metadata": {
    "id": "uYjTVmT1gD3P",
    "jp-MarkdownHeadingCollapsed": true
   },
   "source": [
    "## Map"
   ]
  },
  {
   "cell_type": "markdown",
   "metadata": {
    "id": "eoWcmqbwgIhJ"
   },
   "source": [
    "map(function,iterable) return a map object that can be iterated"
   ]
  },
  {
   "cell_type": "markdown",
   "metadata": {
    "id": "71DV73EZgXPZ",
    "jp-MarkdownHeadingCollapsed": true
   },
   "source": [
    "## Lambda and List Comprehensions"
   ]
  },
  {
   "cell_type": "code",
   "execution_count": 12,
   "metadata": {
    "id": "3i2essnga3M9"
   },
   "outputs": [],
   "source": [
    "x = lambda a,b,c : a+b"
   ]
  },
  {
   "cell_type": "code",
   "execution_count": 13,
   "metadata": {
    "colab": {
     "base_uri": "https://localhost:8080/"
    },
    "id": "-A2pBUDma3KJ",
    "outputId": "d8c4e599-716b-4644-dd2f-61fc00a00eba"
   },
   "outputs": [
    {
     "data": {
      "text/plain": [
       "3"
      ]
     },
     "execution_count": 13,
     "metadata": {},
     "output_type": "execute_result"
    }
   ],
   "source": [
    "x(1,2,3)"
   ]
  },
  {
   "cell_type": "code",
   "execution_count": 14,
   "metadata": {
    "colab": {
     "base_uri": "https://localhost:8080/"
    },
    "id": "cob7MgfLa3H0",
    "outputId": "6b923ae9-ba28-4519-e806-77075455463e"
   },
   "outputs": [
    {
     "data": {
      "text/plain": [
       "[0, 2, 4, 6, 8]"
      ]
     },
     "execution_count": 14,
     "metadata": {},
     "output_type": "execute_result"
    }
   ],
   "source": [
    "[n for n in range(10) if n%2==0]"
   ]
  },
  {
   "cell_type": "markdown",
   "metadata": {
    "id": "CX5izy9ujB_M",
    "jp-MarkdownHeadingCollapsed": true
   },
   "source": [
    "# Numpy"
   ]
  },
  {
   "cell_type": "code",
   "execution_count": 3,
   "metadata": {
    "id": "TYhTDWidkrcZ"
   },
   "outputs": [],
   "source": [
    "import numpy as np\n",
    "import pandas as pd"
   ]
  },
  {
   "cell_type": "markdown",
   "metadata": {
    "id": "oHTGrr4vVnMu",
    "jp-MarkdownHeadingCollapsed": true
   },
   "source": [
    "### Declaring and accessing"
   ]
  },
  {
   "cell_type": "code",
   "execution_count": null,
   "metadata": {
    "colab": {
     "base_uri": "https://localhost:8080/"
    },
    "id": "f0fhUuHsje0m",
    "outputId": "e417264c-02b9-4138-9963-9c18ca9e9d0d"
   },
   "outputs": [
    {
     "name": "stdout",
     "output_type": "stream",
     "text": [
      "123\n"
     ]
    }
   ],
   "source": [
    "data = 123\n",
    "arr_0d = np.array(data)\n",
    "print(arr_0d) #0 dimentional numpy array"
   ]
  },
  {
   "cell_type": "code",
   "execution_count": null,
   "metadata": {
    "colab": {
     "base_uri": "https://localhost:8080/"
    },
    "id": "dNPx_GJfjGVV",
    "outputId": "54d176f8-c0f6-4d97-f120-11f1b49c72fd"
   },
   "outputs": [
    {
     "name": "stdout",
     "output_type": "stream",
     "text": [
      "[1 2 3 4 5]\n"
     ]
    }
   ],
   "source": [
    "data = [1,2,3,4,5] #python list\n",
    "arr_1d = np.array(my_list)\n",
    "print(arr_1d) #1 dimentional numpy array"
   ]
  },
  {
   "cell_type": "code",
   "execution_count": 15,
   "metadata": {
    "colab": {
     "base_uri": "https://localhost:8080/",
     "height": 141
    },
    "id": "WV95ERnJnvdv",
    "outputId": "2b554816-78ee-492d-a17b-69ddc70fe334"
   },
   "outputs": [
    {
     "ename": "NameError",
     "evalue": "name 'arr_1d' is not defined",
     "output_type": "error",
     "traceback": [
      "\u001b[0;31m---------------------------------------------------------------------------\u001b[0m",
      "\u001b[0;31mNameError\u001b[0m                                 Traceback (most recent call last)",
      "\u001b[0;32m<ipython-input-15-0a8e98160797>\u001b[0m in \u001b[0;36m<cell line: 1>\u001b[0;34m()\u001b[0m\n\u001b[0;32m----> 1\u001b[0;31m \u001b[0mprint\u001b[0m\u001b[0;34m(\u001b[0m\u001b[0marr_1d\u001b[0m\u001b[0;34m[\u001b[0m\u001b[0;36m3\u001b[0m\u001b[0;34m]\u001b[0m\u001b[0;34m)\u001b[0m\u001b[0;34m\u001b[0m\u001b[0;34m\u001b[0m\u001b[0m\n\u001b[0m",
      "\u001b[0;31mNameError\u001b[0m: name 'arr_1d' is not defined"
     ]
    }
   ],
   "source": [
    "print(arr_1d[3])"
   ]
  },
  {
   "cell_type": "code",
   "execution_count": null,
   "metadata": {
    "colab": {
     "base_uri": "https://localhost:8080/"
    },
    "id": "BmA00vEzjdHF",
    "outputId": "c6fbb86f-62f8-4675-e5cd-99c9d8ed8edc"
   },
   "outputs": [
    {
     "name": "stdout",
     "output_type": "stream",
     "text": [
      "[[1 2 3]\n",
      " [4 5 6]]\n"
     ]
    }
   ],
   "source": [
    "arr_2d = np.array([[1,2,3],[4,5,6]])\n",
    "print(arr_2d) #2 dimentional numpy array"
   ]
  },
  {
   "cell_type": "code",
   "execution_count": null,
   "metadata": {
    "colab": {
     "base_uri": "https://localhost:8080/"
    },
    "id": "Rj1kD9F2n_sB",
    "outputId": "6d66a791-1bc2-43c9-b16c-f8860637b12c"
   },
   "outputs": [
    {
     "name": "stdout",
     "output_type": "stream",
     "text": [
      "[1 2 3]\n"
     ]
    }
   ],
   "source": [
    "print(arr_2d[0])"
   ]
  },
  {
   "cell_type": "code",
   "execution_count": null,
   "metadata": {
    "colab": {
     "base_uri": "https://localhost:8080/"
    },
    "id": "eBgRAyc7oGu1",
    "outputId": "67aea60c-aa66-43c6-dbea-d970c6b57e48"
   },
   "outputs": [
    {
     "name": "stdout",
     "output_type": "stream",
     "text": [
      "1\n"
     ]
    }
   ],
   "source": [
    "print(arr_2d[0][0]) #method 1"
   ]
  },
  {
   "cell_type": "code",
   "execution_count": null,
   "metadata": {
    "colab": {
     "base_uri": "https://localhost:8080/"
    },
    "id": "eOa_TeeCoP0m",
    "outputId": "afa39289-cb6c-4cb1-886a-fdd9946f4677"
   },
   "outputs": [
    {
     "name": "stdout",
     "output_type": "stream",
     "text": [
      "2\n"
     ]
    }
   ],
   "source": [
    "print(arr_2d[0,1]) #method 2"
   ]
  },
  {
   "cell_type": "code",
   "execution_count": null,
   "metadata": {
    "colab": {
     "base_uri": "https://localhost:8080/"
    },
    "id": "cEC4vl79jruI",
    "outputId": "947e3cbc-f22f-4e46-bd14-0690eaa47783"
   },
   "outputs": [
    {
     "name": "stdout",
     "output_type": "stream",
     "text": [
      "[[[ 1  2  3]\n",
      "  [ 4  5  6]]\n",
      "\n",
      " [[ 7  8  9]\n",
      "  [10 11 12]]]\n"
     ]
    }
   ],
   "source": [
    "arr_3d = np.array([[[1,2,3],[4,5,6]],[[7,8,9],[10,11,12]]])\n",
    "print(arr_3d) #3 dimentional numpy array"
   ]
  },
  {
   "cell_type": "code",
   "execution_count": null,
   "metadata": {
    "id": "2rKZaOIkmPBM"
   },
   "outputs": [],
   "source": [
    "my_list = ['python','java','c']"
   ]
  },
  {
   "cell_type": "code",
   "execution_count": null,
   "metadata": {
    "colab": {
     "base_uri": "https://localhost:8080/"
    },
    "id": "q1RqpHiGnjeH",
    "outputId": "39ce56d9-1436-474f-bae8-17f7a55f6062"
   },
   "outputs": [
    {
     "name": "stdout",
     "output_type": "stream",
     "text": [
      "java\n"
     ]
    }
   ],
   "source": [
    "print(my_list[1])"
   ]
  },
  {
   "cell_type": "code",
   "execution_count": null,
   "metadata": {
    "colab": {
     "base_uri": "https://localhost:8080/"
    },
    "id": "x0J5NLmVnpKo",
    "outputId": "57c6ee12-5f75-42e2-b709-728ab89809f0"
   },
   "outputs": [
    {
     "name": "stdout",
     "output_type": "stream",
     "text": [
      "[[[ 1  2  3]\n",
      "  [ 4  5  6]]\n",
      "\n",
      " [[ 7  8  9]\n",
      "  [10 11 12]]]\n"
     ]
    }
   ],
   "source": [
    "arr = np.array([[[1,2,3],[4,5,6]],[[7,8,9],[10,11,12]]])\n",
    "print(arr)"
   ]
  },
  {
   "cell_type": "code",
   "execution_count": null,
   "metadata": {
    "id": "sFwh7NRzpusZ"
   },
   "outputs": [],
   "source": [
    "arr[0,0,0] = 29386 #mutation"
   ]
  },
  {
   "cell_type": "code",
   "execution_count": null,
   "metadata": {
    "colab": {
     "base_uri": "https://localhost:8080/"
    },
    "id": "_20FUCFWpws8",
    "outputId": "7e545a8a-bffb-42bf-ff86-abe09464f329"
   },
   "outputs": [
    {
     "name": "stdout",
     "output_type": "stream",
     "text": [
      "[[[29386     2     3]\n",
      "  [    4     5     6]]\n",
      "\n",
      " [[    7     8     9]\n",
      "  [   10    11    12]]]\n"
     ]
    }
   ],
   "source": [
    "print(arr)"
   ]
  },
  {
   "cell_type": "code",
   "execution_count": null,
   "metadata": {
    "colab": {
     "base_uri": "https://localhost:8080/"
    },
    "id": "GaIFkTyXsfbm",
    "outputId": "a740403a-2bc0-4268-a06c-1a94c1d4a4c6"
   },
   "outputs": [
    {
     "name": "stdout",
     "output_type": "stream",
     "text": [
      "(4,)\n",
      "(2, 2)\n",
      "4\n",
      "4\n"
     ]
    }
   ],
   "source": [
    "arr1 = np.array([1,2,3,4],ndmin=1)\n",
    "arr2 = np.array([[1,2],[3,4]],ndmin=2)\n",
    "print(arr1.shape) #shape of array\n",
    "print(arr2.shape)\n",
    "print(arr1.size) #no of elements\n",
    "print(arr2.size)"
   ]
  },
  {
   "cell_type": "code",
   "execution_count": null,
   "metadata": {
    "colab": {
     "base_uri": "https://localhost:8080/"
    },
    "id": "e4uiB0hcshNx",
    "outputId": "5f35c7ec-f94f-4f67-9e90-b8ad536add44"
   },
   "outputs": [
    {
     "data": {
      "text/plain": [
       "dtype('int64')"
      ]
     },
     "execution_count": 7,
     "metadata": {},
     "output_type": "execute_result"
    }
   ],
   "source": [
    "arr1.dtype"
   ]
  },
  {
   "cell_type": "code",
   "execution_count": null,
   "metadata": {
    "colab": {
     "base_uri": "https://localhost:8080/"
    },
    "id": "hlOX-qhusnFi",
    "outputId": "a8d182b9-addb-4b86-a693-3d9e220cabc5"
   },
   "outputs": [
    {
     "name": "stdout",
     "output_type": "stream",
     "text": [
      "[0. 0. 0. 0. 0. 0. 0. 0. 0. 0. 0. 0. 0. 0. 0.]\n"
     ]
    }
   ],
   "source": [
    "az1d = np.zeros(15)\n",
    "print(az1d)"
   ]
  },
  {
   "cell_type": "code",
   "execution_count": null,
   "metadata": {
    "colab": {
     "base_uri": "https://localhost:8080/"
    },
    "id": "CV8hn5Hsvr5C",
    "outputId": "3b3ab23b-17cc-4a59-caef-0a53be384791"
   },
   "outputs": [
    {
     "name": "stdout",
     "output_type": "stream",
     "text": [
      "[[0. 0. 0. 0.]\n",
      " [0. 0. 0. 0.]\n",
      " [0. 0. 0. 0.]]\n"
     ]
    }
   ],
   "source": [
    "az2d = np.zeros([3,4])\n",
    "print(az2d)"
   ]
  },
  {
   "cell_type": "markdown",
   "metadata": {
    "id": "fumgzNZ_kmFt"
   },
   "source": []
  },
  {
   "cell_type": "code",
   "execution_count": 17,
   "metadata": {
    "colab": {
     "base_uri": "https://localhost:8080/"
    },
    "id": "bhgSEV2Vklye",
    "outputId": "45df0a55-4f34-4869-ae9b-9b225efeb0a6"
   },
   "outputs": [
    {
     "data": {
      "text/plain": [
       "array([[0.17741344, 0.97900231],\n",
       "       [0.60839068, 0.50880073],\n",
       "       [0.70895657, 0.02708382]])"
      ]
     },
     "execution_count": 17,
     "metadata": {},
     "output_type": "execute_result"
    }
   ],
   "source": [
    "np.random.rand(3,2)"
   ]
  },
  {
   "cell_type": "code",
   "execution_count": 22,
   "metadata": {
    "colab": {
     "base_uri": "https://localhost:8080/"
    },
    "id": "e15ytUeekls2",
    "outputId": "328d4e0f-d581-4120-e2d9-03c8e4c09c5d"
   },
   "outputs": [
    {
     "data": {
      "text/plain": [
       "array([0, 1, 2, 3, 4, 5, 6, 7, 8, 9])"
      ]
     },
     "execution_count": 22,
     "metadata": {},
     "output_type": "execute_result"
    }
   ],
   "source": [
    "np.arange(0,10,1)"
   ]
  },
  {
   "cell_type": "code",
   "execution_count": 23,
   "metadata": {
    "colab": {
     "base_uri": "https://localhost:8080/"
    },
    "id": "MDEp7GCDkloM",
    "outputId": "e2549636-8582-4334-89bb-cc79bd9c8920"
   },
   "outputs": [
    {
     "data": {
      "text/plain": [
       "array([ 0. ,  2.5,  5. ,  7.5, 10. ])"
      ]
     },
     "execution_count": 23,
     "metadata": {},
     "output_type": "execute_result"
    }
   ],
   "source": [
    "np.linspace(0,10,5)"
   ]
  },
  {
   "cell_type": "markdown",
   "metadata": {
    "id": "6HiXpddblWkD",
    "jp-MarkdownHeadingCollapsed": true
   },
   "source": [
    "### Array Operations"
   ]
  },
  {
   "cell_type": "code",
   "execution_count": null,
   "metadata": {
    "id": "7YnsMkElv_kV"
   },
   "outputs": [],
   "source": [
    "a = np.array([[1,2],[3,4]])\n",
    "b = np.array([[5,6],[7,8]])"
   ]
  },
  {
   "cell_type": "code",
   "execution_count": null,
   "metadata": {
    "colab": {
     "base_uri": "https://localhost:8080/"
    },
    "id": "dfVXmP1L7JhX",
    "outputId": "50ce99e9-e850-4a4d-d641-16784630aea7"
   },
   "outputs": [
    {
     "name": "stdout",
     "output_type": "stream",
     "text": [
      "[[ 6  7]\n",
      " [10 11]]\n"
     ]
    }
   ],
   "source": [
    "print(np.add(a,b))"
   ]
  },
  {
   "cell_type": "code",
   "execution_count": null,
   "metadata": {
    "colab": {
     "base_uri": "https://localhost:8080/"
    },
    "id": "OuHSPb9L7O4I",
    "outputId": "51c6ebac-c8a8-4f91-85c5-98d48d88c072"
   },
   "outputs": [
    {
     "name": "stdout",
     "output_type": "stream",
     "text": [
      "[[4 4]\n",
      " [4 4]]\n"
     ]
    }
   ],
   "source": [
    "print(np.subtract(b,a))"
   ]
  },
  {
   "cell_type": "code",
   "execution_count": null,
   "metadata": {
    "colab": {
     "base_uri": "https://localhost:8080/"
    },
    "id": "qx2UQtjs7l1N",
    "outputId": "0b056bcf-7e62-45be-a44c-6100719a098b"
   },
   "outputs": [
    {
     "name": "stdout",
     "output_type": "stream",
     "text": [
      "[ 5 12 21 32]\n"
     ]
    }
   ],
   "source": [
    "print(np.multiply(a,b))"
   ]
  },
  {
   "cell_type": "code",
   "execution_count": null,
   "metadata": {
    "colab": {
     "base_uri": "https://localhost:8080/"
    },
    "id": "a2leh9Sg752V",
    "outputId": "18a0361a-fbf7-4ace-b7b1-6389d38c8984"
   },
   "outputs": [
    {
     "name": "stdout",
     "output_type": "stream",
     "text": [
      "[0.2        0.33333333 0.42857143 0.5       ]\n"
     ]
    }
   ],
   "source": [
    "print(np.divide(a,b))"
   ]
  },
  {
   "cell_type": "code",
   "execution_count": null,
   "metadata": {
    "colab": {
     "base_uri": "https://localhost:8080/"
    },
    "id": "9FoFiiLnrsMw",
    "outputId": "27288c69-e471-45ce-85fb-9d7b2599c835"
   },
   "outputs": [
    {
     "name": "stdout",
     "output_type": "stream",
     "text": [
      "[[0 0]\n",
      " [0 0]]\n"
     ]
    }
   ],
   "source": [
    "print(np.floor_divide(a,b))"
   ]
  },
  {
   "cell_type": "code",
   "execution_count": null,
   "metadata": {
    "colab": {
     "base_uri": "https://localhost:8080/"
    },
    "id": "iIJKiLFLsEKy",
    "outputId": "0c41d9a3-cade-4e6e-d130-d475be47e4cf"
   },
   "outputs": [
    {
     "name": "stdout",
     "output_type": "stream",
     "text": [
      "[[1 2]\n",
      " [3 4]]\n"
     ]
    }
   ],
   "source": [
    "print(np.mod(a,b))"
   ]
  },
  {
   "cell_type": "code",
   "execution_count": null,
   "metadata": {
    "id": "3slcN-cztrr3"
   },
   "outputs": [],
   "source": [
    "x = np.array([[5,6],[7,8],[9,10]])\n",
    "y = np.array([[1,2,3]])"
   ]
  },
  {
   "cell_type": "code",
   "execution_count": null,
   "metadata": {
    "colab": {
     "base_uri": "https://localhost:8080/"
    },
    "id": "tT2J2xDZuHG-",
    "outputId": "03d70cbc-0804-4ca3-ce38-1be2f3a8e8d1"
   },
   "outputs": [
    {
     "name": "stdout",
     "output_type": "stream",
     "text": [
      "(3, 2)\n",
      "(1, 3)\n"
     ]
    }
   ],
   "source": [
    "print(x.shape)\n",
    "print(y.shape)"
   ]
  },
  {
   "cell_type": "code",
   "execution_count": null,
   "metadata": {
    "colab": {
     "base_uri": "https://localhost:8080/",
     "height": 193
    },
    "id": "XIPPKU8Wt0xZ",
    "outputId": "07bb100a-bd55-45a2-d7ef-6f3425796ade"
   },
   "outputs": [
    {
     "ename": "ValueError",
     "evalue": "operands could not be broadcast together with shapes (3,2) (1,3) ",
     "output_type": "error",
     "traceback": [
      "\u001b[0;31m---------------------------------------------------------------------------\u001b[0m",
      "\u001b[0;31mValueError\u001b[0m                                Traceback (most recent call last)",
      "\u001b[0;32m<ipython-input-62-d65047853038>\u001b[0m in \u001b[0;36m<cell line: 1>\u001b[0;34m()\u001b[0m\n\u001b[0;32m----> 1\u001b[0;31m \u001b[0mprint\u001b[0m\u001b[0;34m(\u001b[0m\u001b[0mnp\u001b[0m\u001b[0;34m.\u001b[0m\u001b[0madd\u001b[0m\u001b[0;34m(\u001b[0m\u001b[0mx\u001b[0m\u001b[0;34m,\u001b[0m\u001b[0my\u001b[0m\u001b[0;34m)\u001b[0m\u001b[0;34m)\u001b[0m\u001b[0;34m\u001b[0m\u001b[0;34m\u001b[0m\u001b[0m\n\u001b[0m",
      "\u001b[0;31mValueError\u001b[0m: operands could not be broadcast together with shapes (3,2) (1,3) "
     ]
    }
   ],
   "source": [
    "print(np.add(x,y))"
   ]
  },
  {
   "cell_type": "code",
   "execution_count": null,
   "metadata": {
    "id": "4A7W0e4T7-kR"
   },
   "outputs": [],
   "source": [
    "c = np.array([10, 20, 30, 40])\n",
    "d = np.array([15, 25, 20, 50])\n"
   ]
  },
  {
   "cell_type": "code",
   "execution_count": null,
   "metadata": {
    "colab": {
     "base_uri": "https://localhost:8080/"
    },
    "id": "rGBr3Up28RvS",
    "outputId": "55c85c6f-7f1f-44e5-96cd-6b5d8b87c39d"
   },
   "outputs": [
    {
     "name": "stdout",
     "output_type": "stream",
     "text": [
      "Greater than: [False False  True False]\n"
     ]
    }
   ],
   "source": [
    "greater_than = np.greater(c, d)\n",
    "print(\"Greater than:\", greater_than)\n"
   ]
  },
  {
   "cell_type": "code",
   "execution_count": null,
   "metadata": {
    "colab": {
     "base_uri": "https://localhost:8080/"
    },
    "id": "r9r3yDG88beR",
    "outputId": "b4b2c08e-a328-4753-a718-54736f768ccc"
   },
   "outputs": [
    {
     "name": "stdout",
     "output_type": "stream",
     "text": [
      "Lesser than: [ True  True False  True]\n"
     ]
    }
   ],
   "source": [
    "lesser_than = np.less(c, d)\n",
    "print(\"Lesser than:\", lesser_than)\n"
   ]
  },
  {
   "cell_type": "code",
   "execution_count": null,
   "metadata": {
    "colab": {
     "base_uri": "https://localhost:8080/"
    },
    "id": "EIIrSuLp8k2I",
    "outputId": "ea57f5ac-2137-4bb2-b487-4beb37c15454"
   },
   "outputs": [
    {
     "name": "stdout",
     "output_type": "stream",
     "text": [
      "Equals: [False False False False]\n"
     ]
    }
   ],
   "source": [
    "equals = np.equal(c,d)\n",
    "print('Equals:',equals)"
   ]
  },
  {
   "cell_type": "code",
   "execution_count": null,
   "metadata": {
    "colab": {
     "base_uri": "https://localhost:8080/"
    },
    "id": "DcE9w11E84wF",
    "outputId": "1407a12b-c02d-4750-92cf-30cd3e985d27"
   },
   "outputs": [
    {
     "name": "stdout",
     "output_type": "stream",
     "text": [
      "Not Equal [ True  True  True  True]\n"
     ]
    }
   ],
   "source": [
    "not_equal = np.not_equal(c,d)\n",
    "print('Not Equal',not_equal)"
   ]
  },
  {
   "cell_type": "code",
   "execution_count": null,
   "metadata": {
    "colab": {
     "base_uri": "https://localhost:8080/"
    },
    "id": "RLpL3Xh29BpO",
    "outputId": "f7c753a4-2eba-4864-f670-87e483701006"
   },
   "outputs": [
    {
     "data": {
      "text/plain": [
       "array([ True,  True, False,  True])"
      ]
     },
     "execution_count": 21,
     "metadata": {},
     "output_type": "execute_result"
    }
   ],
   "source": [
    "np.less_equal(c,d)"
   ]
  },
  {
   "cell_type": "code",
   "execution_count": null,
   "metadata": {
    "colab": {
     "base_uri": "https://localhost:8080/"
    },
    "id": "be1bBPYDoFbc",
    "outputId": "a1a6a8eb-ec62-4fd5-db6c-090850239f6d"
   },
   "outputs": [
    {
     "data": {
      "text/plain": [
       "array([False, False,  True, False])"
      ]
     },
     "execution_count": 22,
     "metadata": {},
     "output_type": "execute_result"
    }
   ],
   "source": [
    "np.greater_equal(c,d)"
   ]
  },
  {
   "cell_type": "code",
   "execution_count": null,
   "metadata": {
    "colab": {
     "base_uri": "https://localhost:8080/"
    },
    "id": "7soLlNcWoIxO",
    "outputId": "7ea07e5d-9718-45bf-e54d-43012d7e8bf9"
   },
   "outputs": [
    {
     "data": {
      "text/plain": [
       "array([ True,  True,  True,  True])"
      ]
     },
     "execution_count": 23,
     "metadata": {},
     "output_type": "execute_result"
    }
   ],
   "source": [
    "np.logical_and(c>1,d>2)"
   ]
  },
  {
   "cell_type": "code",
   "execution_count": null,
   "metadata": {
    "colab": {
     "base_uri": "https://localhost:8080/"
    },
    "id": "Ll2PB3FpogB1",
    "outputId": "2131e15c-a7dd-43f2-9ae0-b67be07e6234"
   },
   "outputs": [
    {
     "data": {
      "text/plain": [
       "array([ True, False, False, False])"
      ]
     },
     "execution_count": 24,
     "metadata": {},
     "output_type": "execute_result"
    }
   ],
   "source": [
    "np.logical_or(c<10,d<20)"
   ]
  },
  {
   "cell_type": "markdown",
   "metadata": {
    "id": "ercmVFTFmgG5",
    "jp-MarkdownHeadingCollapsed": true
   },
   "source": [
    "## Numpy with datasets"
   ]
  },
  {
   "cell_type": "code",
   "execution_count": null,
   "metadata": {},
   "outputs": [],
   "source": []
  },
  {
   "cell_type": "markdown",
   "metadata": {
    "editable": true,
    "id": "gmQLakQOmNgr",
    "jp-MarkdownHeadingCollapsed": true,
    "slideshow": {
     "slide_type": ""
    },
    "tags": []
   },
   "source": [
    "# RegEx"
   ]
  },
  {
   "cell_type": "code",
   "execution_count": 2,
   "metadata": {
    "id": "LKIH-Qf3mNYu"
   },
   "outputs": [],
   "source": [
    "import re"
   ]
  },
  {
   "cell_type": "code",
   "execution_count": 3,
   "metadata": {
    "id": "olP1QR-VmM8H"
   },
   "outputs": [
    {
     "name": "stdout",
     "output_type": "stream",
     "text": [
      "Wonderful!\n"
     ]
    }
   ],
   "source": [
    "text = \"This is a good day.\"\n",
    "\n",
    "if re.search(\"good\", text): \n",
    "    print(\"Wonderful!\")\n",
    "else:\n",
    "    print(\"Alas :(\")"
   ]
  },
  {
   "cell_type": "code",
   "execution_count": 6,
   "metadata": {
    "id": "RmndZ6yNmNRu"
   },
   "outputs": [
    {
     "data": {
      "text/plain": [
       "['',\n",
       " ' works diligently. ',\n",
       " ' gets good grades. Our student ',\n",
       " ' is succesful.']"
      ]
     },
     "execution_count": 6,
     "metadata": {},
     "output_type": "execute_result"
    }
   ],
   "source": [
    "text = \"Amy works diligently. Amy gets good grades. Our student Amy is succesful.\"\n",
    "re.split(\"Amy\", text)\n"
   ]
  },
  {
   "cell_type": "code",
   "execution_count": 8,
   "metadata": {},
   "outputs": [
    {
     "data": {
      "text/plain": [
       "['Amy', 'Amy', 'Amy']"
      ]
     },
     "execution_count": 8,
     "metadata": {},
     "output_type": "execute_result"
    }
   ],
   "source": [
    "re.findall(\"Amy\", text)"
   ]
  },
  {
   "cell_type": "code",
   "execution_count": 14,
   "metadata": {},
   "outputs": [
    {
     "data": {
      "text/plain": [
       "<re.Match object; span=(0, 3), match='Amy'>"
      ]
     },
     "execution_count": 14,
     "metadata": {},
     "output_type": "execute_result"
    }
   ],
   "source": [
    "text = \"Amy works diligently. Amy gets good grades. Our student Amy is succesful.\"\n",
    "\n",
    "res = re.search(\"^Amy\",text)\n",
    "res"
   ]
  },
  {
   "cell_type": "code",
   "execution_count": 15,
   "metadata": {},
   "outputs": [
    {
     "data": {
      "text/plain": [
       "0"
      ]
     },
     "execution_count": 15,
     "metadata": {},
     "output_type": "execute_result"
    }
   ],
   "source": [
    "res.start()"
   ]
  },
  {
   "cell_type": "code",
   "execution_count": 16,
   "metadata": {},
   "outputs": [
    {
     "data": {
      "text/plain": [
       "3"
      ]
     },
     "execution_count": 16,
     "metadata": {},
     "output_type": "execute_result"
    }
   ],
   "source": [
    "res.end()"
   ]
  },
  {
   "cell_type": "markdown",
   "metadata": {},
   "source": [
    "## findall"
   ]
  },
  {
   "cell_type": "code",
   "execution_count": 17,
   "metadata": {},
   "outputs": [
    {
     "data": {
      "text/plain": [
       "['B', 'B', 'B']"
      ]
     },
     "execution_count": 17,
     "metadata": {},
     "output_type": "execute_result"
    }
   ],
   "source": [
    "grades=\"ACAAAABCBCBAA\"\n",
    "\n",
    "re.findall(\"B\",grades)"
   ]
  },
  {
   "cell_type": "code",
   "execution_count": 21,
   "metadata": {},
   "outputs": [
    {
     "data": {
      "text/plain": [
       "['A', 'A', 'A', 'A', 'A', 'B', 'B', 'B', 'A', 'A']"
      ]
     },
     "execution_count": 21,
     "metadata": {},
     "output_type": "execute_result"
    }
   ],
   "source": [
    "re.findall(\"[AB]\",grades)"
   ]
  },
  {
   "cell_type": "code",
   "execution_count": 22,
   "metadata": {},
   "outputs": [
    {
     "data": {
      "text/plain": [
       "['AC', 'AB']"
      ]
     },
     "execution_count": 22,
     "metadata": {},
     "output_type": "execute_result"
    }
   ],
   "source": [
    "re.findall(\"[A][B-C]\",grades)"
   ]
  },
  {
   "cell_type": "code",
   "execution_count": 23,
   "metadata": {},
   "outputs": [
    {
     "data": {
      "text/plain": [
       "['AC', 'AB']"
      ]
     },
     "execution_count": 23,
     "metadata": {},
     "output_type": "execute_result"
    }
   ],
   "source": [
    "re.findall(\"AB|AC\",grades)"
   ]
  },
  {
   "cell_type": "code",
   "execution_count": 24,
   "metadata": {},
   "outputs": [
    {
     "data": {
      "text/plain": [
       "['C', 'B', 'C', 'B', 'C', 'B']"
      ]
     },
     "execution_count": 24,
     "metadata": {},
     "output_type": "execute_result"
    }
   ],
   "source": [
    "re.findall(\"[^A]\",grades) #^ to negate"
   ]
  },
  {
   "cell_type": "code",
   "execution_count": 25,
   "metadata": {},
   "outputs": [
    {
     "data": {
      "text/plain": [
       "[]"
      ]
     },
     "execution_count": 25,
     "metadata": {},
     "output_type": "execute_result"
    }
   ],
   "source": [
    "re.findall(\"^[^A]\",grades) #^ outside means begins with"
   ]
  },
  {
   "cell_type": "markdown",
   "metadata": {},
   "source": [
    "### more patterns using a txt file and "
   ]
  },
  {
   "cell_type": "code",
   "execution_count": null,
   "metadata": {},
   "outputs": [],
   "source": []
  },
  {
   "cell_type": "markdown",
   "metadata": {
    "id": "zmghx9gYOFJa"
   },
   "source": [
    "# Pandas"
   ]
  },
  {
   "cell_type": "markdown",
   "metadata": {},
   "source": [
    "## Series"
   ]
  },
  {
   "cell_type": "markdown",
   "metadata": {},
   "source": [
    "!pip install pandas"
   ]
  },
  {
   "cell_type": "code",
   "execution_count": 5,
   "metadata": {
    "id": "WdUbSuFwonn1"
   },
   "outputs": [],
   "source": [
    "import pandas as pd\n",
    "import numpy as np"
   ]
  },
  {
   "cell_type": "code",
   "execution_count": 6,
   "metadata": {},
   "outputs": [
    {
     "data": {
      "text/plain": [
       "0    Alice\n",
       "1     Jack\n",
       "2    Molly\n",
       "dtype: object"
      ]
     },
     "execution_count": 6,
     "metadata": {},
     "output_type": "execute_result"
    }
   ],
   "source": [
    "students = ['Alice', 'Jack', 'Molly']\n",
    "\n",
    "pd.Series(students)"
   ]
  },
  {
   "cell_type": "code",
   "execution_count": null,
   "metadata": {},
   "outputs": [],
   "source": []
  },
  {
   "cell_type": "code",
   "execution_count": null,
   "metadata": {},
   "outputs": [],
   "source": []
  },
  {
   "cell_type": "code",
   "execution_count": null,
   "metadata": {
    "colab": {
     "base_uri": "https://localhost:8080/"
    },
    "id": "EJU39UliVjc6",
    "outputId": "aff26c06-e0b0-490a-a198-a8e951bdebc1"
   },
   "outputs": [
    {
     "name": "stdout",
     "output_type": "stream",
     "text": [
      "\n",
      "DataFrame:\n",
      "      Name  Age  Score\n",
      "0    Alice   25     85\n",
      "1      Bob   30     90\n",
      "2  Charlie   35     88\n",
      "3    David   40     92\n"
     ]
    }
   ],
   "source": [
    "data = {\n",
    "    'Name': ['Alice', 'Bob', 'Charlie', 'David'],\n",
    "    'Age': [25, 30, 35, 40],\n",
    "    'Score': [85, 90, 88, 92]\n",
    "}\n",
    "df = pd.DataFrame(data)\n",
    "print(\"\\nDataFrame:\")\n",
    "print(df)\n"
   ]
  },
  {
   "cell_type": "code",
   "execution_count": null,
   "metadata": {
    "colab": {
     "base_uri": "https://localhost:8080/"
    },
    "id": "6fBjJCFqVlc8",
    "outputId": "416be702-5a16-43a0-dcac-b5efe7b7da62"
   },
   "outputs": [
    {
     "data": {
      "text/plain": [
       "Name     Charlie\n",
       "Age           35\n",
       "Score         88\n",
       "Name: 2, dtype: object"
      ]
     },
     "execution_count": 4,
     "metadata": {},
     "output_type": "execute_result"
    }
   ],
   "source": [
    "df.iloc[2]"
   ]
  },
  {
   "cell_type": "code",
   "execution_count": null,
   "metadata": {
    "colab": {
     "base_uri": "https://localhost:8080/"
    },
    "id": "fdYlbdlyVndA",
    "outputId": "cd1ecf9a-f2e4-4661-e8b1-058731c1749e"
   },
   "outputs": [
    {
     "data": {
      "text/plain": [
       "Name     Charlie\n",
       "Age           35\n",
       "Score         88\n",
       "Name: 2, dtype: object"
      ]
     },
     "execution_count": 7,
     "metadata": {},
     "output_type": "execute_result"
    }
   ],
   "source": [
    "df.loc[2]"
   ]
  },
  {
   "cell_type": "code",
   "execution_count": null,
   "metadata": {
    "id": "x5zCUB_ZVw4-"
   },
   "outputs": [],
   "source": [
    "df2 = pd.DataFrame(\n",
    "{\n",
    "      \"A\": 1.0,\n",
    "    \"B\": pd.Timestamp(\"20130102\"),\n",
    "       \"C\": pd.Series(1, index=list(range(4)), dtype=\"float32\"),\n",
    "            \"D\": np.array([3] * 4, dtype=\"int32\"),\n",
    "            \"E\": pd.Categorical([\"test\", \"train\", \"test\", \"train\"]),\n",
    "            \"F\": \"foo\",\n",
    "        }\n",
    "    )"
   ]
  },
  {
   "cell_type": "code",
   "execution_count": null,
   "metadata": {
    "colab": {
     "base_uri": "https://localhost:8080/"
    },
    "id": "aljoDBfTWtG3",
    "outputId": "78bc7023-18a4-460b-9829-6105db45af43"
   },
   "outputs": [
    {
     "name": "stdout",
     "output_type": "stream",
     "text": [
      "     A          B    C  D      E    F\n",
      "0  1.0 2013-01-02  1.0  3   test  foo\n",
      "1  1.0 2013-01-02  1.0  3  train  foo\n",
      "2  1.0 2013-01-02  1.0  3   test  foo\n",
      "3  1.0 2013-01-02  1.0  3  train  foo\n"
     ]
    }
   ],
   "source": [
    "print(df2)"
   ]
  },
  {
   "cell_type": "code",
   "execution_count": null,
   "metadata": {
    "colab": {
     "base_uri": "https://localhost:8080/"
    },
    "id": "Snxc4QH3WulK",
    "outputId": "21986eeb-f4e5-4359-e0c5-39930dc14ee3"
   },
   "outputs": [
    {
     "data": {
      "text/plain": [
       "A           float64\n",
       "B    datetime64[ns]\n",
       "C           float32\n",
       "D             int32\n",
       "E          category\n",
       "F            object\n",
       "dtype: object"
      ]
     },
     "execution_count": 12,
     "metadata": {},
     "output_type": "execute_result"
    }
   ],
   "source": [
    "df2.dtypes"
   ]
  },
  {
   "cell_type": "code",
   "execution_count": null,
   "metadata": {
    "colab": {
     "base_uri": "https://localhost:8080/"
    },
    "id": "0VYrpxU0WwPt",
    "outputId": "d35850c9-9eac-42ea-ceda-acaf484a6ccd"
   },
   "outputs": [
    {
     "name": "stdout",
     "output_type": "stream",
     "text": [
      "[[97167491827468              0]\n",
      " [  416611827815   137438953580]\n",
      " [  433791697011   459561500773]]\n"
     ]
    }
   ],
   "source": [
    "# Empty Numpy array\n",
    "import numpy as np\n",
    "empty_array = np.empty(shape=(3, 2), dtype=int)\n",
    "print(empty_array)"
   ]
  },
  {
   "cell_type": "code",
   "execution_count": null,
   "metadata": {
    "colab": {
     "base_uri": "https://localhost:8080/"
    },
    "id": "hEVsIl-5Pa7f",
    "outputId": "91f32615-9484-4c5e-e049-19abb1e913de"
   },
   "outputs": [
    {
     "name": "stdout",
     "output_type": "stream",
     "text": [
      "[[1 1]\n",
      " [1 1]\n",
      " [1 1]]\n"
     ]
    }
   ],
   "source": [
    "# Numpy array made of ones\n",
    "import numpy as np\n",
    "ones_array = np.ones(shape=(3, 2), dtype=int)\n",
    "print(ones_array)"
   ]
  },
  {
   "cell_type": "code",
   "execution_count": null,
   "metadata": {
    "colab": {
     "base_uri": "https://localhost:8080/"
    },
    "id": "pnY5DAXDPfA6",
    "outputId": "37f6e2d4-4739-4a5c-ae7f-4aecdea21cf6"
   },
   "outputs": [
    {
     "name": "stdout",
     "output_type": "stream",
     "text": [
      "[[0.71858827 0.30403466 0.63112567 0.74419912]\n",
      " [0.63006517 0.21640181 0.18516542 0.28770215]\n",
      " [0.27599582 0.68473862 0.61724875 0.70440678]\n",
      " [0.6279539  0.12024354 0.70145193 0.57942079]\n",
      " [0.73684968 0.00717923 0.481965   0.37206044]]\n"
     ]
    }
   ],
   "source": [
    "# 2d numpy array with random numbers of dimentions 5,4\n",
    "import numpy as np\n",
    "random_array = np.random.rand(5, 4)\n",
    "print(random_array)\n"
   ]
  },
  {
   "cell_type": "code",
   "execution_count": null,
   "metadata": {
    "colab": {
     "base_uri": "https://localhost:8080/"
    },
    "id": "ogfw2dCFv0Rw",
    "outputId": "e847e6f2-3566-40a5-9779-f750d9c6d54e"
   },
   "outputs": [
    {
     "name": "stdout",
     "output_type": "stream",
     "text": [
      "[[[0. 0. 0. 0.]\n",
      "  [0. 0. 0. 0.]\n",
      "  [0. 0. 0. 0.]]\n",
      "\n",
      " [[0. 0. 0. 0.]\n",
      "  [0. 0. 0. 0.]\n",
      "  [0. 0. 0. 0.]]]\n"
     ]
    }
   ],
   "source": [
    "az3d = np.zeros([2,3,4])\n",
    "print(az3d)"
   ]
  },
  {
   "cell_type": "code",
   "execution_count": null,
   "metadata": {
    "colab": {
     "base_uri": "https://localhost:8080/",
     "height": 1000
    },
    "id": "Dh55FzNWPq7y",
    "outputId": "6a3b9516-b580-49f3-cf58-9a8a7a07a52f"
   },
   "outputs": [
    {
     "ename": "NameError",
     "evalue": "name 'df' is not defined",
     "output_type": "error",
     "traceback": [
      "\u001b[0;31m---------------------------------------------------------------------------\u001b[0m",
      "\u001b[0;31mNameError\u001b[0m                                 Traceback (most recent call last)",
      "\u001b[0;32m<ipython-input-1-c42a15b2c7cf>\u001b[0m in \u001b[0;36m<cell line: 1>\u001b[0;34m()\u001b[0m\n\u001b[0;32m----> 1\u001b[0;31m \u001b[0mdf\u001b[0m\u001b[0;34m.\u001b[0m\u001b[0mhead\u001b[0m\u001b[0;34m(\u001b[0m\u001b[0;34m)\u001b[0m\u001b[0;34m\u001b[0m\u001b[0;34m\u001b[0m\u001b[0m\n\u001b[0m",
      "\u001b[0;31mNameError\u001b[0m: name 'df' is not defined"
     ]
    }
   ],
   "source": [
    "df.head()\n",
    "df.tail()"
   ]
  },
  {
   "cell_type": "code",
   "execution_count": 1,
   "metadata": {
    "id": "HMKuPrQCOI6o"
   },
   "outputs": [],
   "source": [
    "import pandas as pd\n",
    "# pd.series({'a':1,'b':2,'c':3})"
   ]
  },
  {
   "cell_type": "code",
   "execution_count": null,
   "metadata": {},
   "outputs": [],
   "source": [
    "pd.read_sql_query(\"S\")"
   ]
  },
  {
   "cell_type": "code",
   "execution_count": null,
   "metadata": {},
   "outputs": [],
   "source": []
  }
 ],
 "metadata": {
  "colab": {
   "collapsed_sections": [
    "jflQhaAzeos3",
    "sucI44A4fsbB",
    "uYjTVmT1gD3P",
    "71DV73EZgXPZ",
    "zmghx9gYOFJa"
   ],
   "provenance": []
  },
  "kernelspec": {
   "display_name": "Python 3 (ipykernel)",
   "language": "python",
   "name": "python3"
  },
  "language_info": {
   "codemirror_mode": {
    "name": "ipython",
    "version": 3
   },
   "file_extension": ".py",
   "mimetype": "text/x-python",
   "name": "python",
   "nbconvert_exporter": "python",
   "pygments_lexer": "ipython3",
   "version": "3.12.4"
  }
 },
 "nbformat": 4,
 "nbformat_minor": 4
}
